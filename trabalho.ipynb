{
  "nbformat": 4,
  "nbformat_minor": 0,
  "metadata": {
    "colab": {
      "provenance": [],
      "authorship_tag": "ABX9TyM1Zoe3j3iRmYmXy9PDmZch",
      "include_colab_link": true
    },
    "kernelspec": {
      "name": "python3",
      "display_name": "Python 3"
    },
    "language_info": {
      "name": "python"
    }
  },
  "cells": [
    {
      "cell_type": "markdown",
      "metadata": {
        "id": "view-in-github",
        "colab_type": "text"
      },
      "source": [
        "<a href=\"https://colab.research.google.com/github/juliavassimon/trabalho_py/blob/main/trabalho.ipynb\" target=\"_parent\"><img src=\"https://colab.research.google.com/assets/colab-badge.svg\" alt=\"Open In Colab\"/></a>"
      ]
    },
    {
      "cell_type": "code",
      "source": [
        "import pandas as pd\n",
        "import numpy as np\n",
        "from sklearn.linear_model import LinearRegression\n",
        "import matplotlib.pyplot as plt"
      ],
      "metadata": {
        "id": "dM8SY6Gbg4ri"
      },
      "execution_count": null,
      "outputs": []
    },
    {
      "cell_type": "code",
      "execution_count": 28,
      "metadata": {
        "id": "rJcjJ1cYfDgy"
      },
      "outputs": [],
      "source": [
        "data = pd.read_csv('https://raw.githubusercontent.com/juliavassimon/trabalho_py/main/trab-python.CSV', delimiter=';')\n",
        "df = pd.DataFrame(data)\n",
        "#limpeza de dados\n",
        "df['PIB'] = df['PIB'].str.replace('[$.,]', '', regex=True).astype(float)\n",
        "df['taxa de desemprego'] = df['taxa de desemprego'].str.replace(',', '.', regex=True).str.rstrip('%').astype(float) / 100  # Divida por 100\n"
      ]
    },
    {
      "cell_type": "code",
      "source": [
        "#mudando o nome da coluna\n",
        "df.columns = df.columns.str.replace('taxa de desemprego','taxa_desemprego')\n",
        "#media\n",
        "media_pib = df['PIB'].mean()\n",
        "media_taxa_desemprego = df['taxa_desemprego'].mean()\n",
        "#mediana\n",
        "mediana_pib = df['PIB'].median()\n",
        "mediana_taxa_desemprego = df['taxa_desemprego'].median()\n",
        "#moda\n",
        "moda_pib = df['PIB'].mode().values[0]\n",
        "moda_taxa_desemprego = df['taxa_desemprego'].mode().values[0]\n",
        "#desvio padrão\n",
        "desvio_pib = df['PIB'].std()\n",
        "desvio_taxa_desemprego = df['taxa_desemprego'].std()\n",
        "\n",
        "\n",
        "\n",
        "print(\"PIB:\")\n",
        "print(f\"Média: {media_pib:.2f}\")\n",
        "print(f\"Mediana: {mediana_pib:.2f}\")\n",
        "print(f\"Moda: {moda_pib:.2f}\")\n",
        "print(f\"Desvio Padrão: {desvio_pib:.2f}\")\n",
        "\n",
        "\n",
        "print(\"\\nTaxa de Desemprego:\")\n",
        "print(f\"Média: {media_taxa_desemprego:.2f}\")\n",
        "print(f\"Mediana: {mediana_taxa_desemprego:.2f}\")\n",
        "print(f\"Moda: {moda_taxa_desemprego:.2f}\")\n",
        "print(f\"Desvio Padrão: {desvio_taxa_desemprego:.2f}\")\n"
      ],
      "metadata": {
        "id": "pZjpkBDgTAKU"
      },
      "execution_count": null,
      "outputs": []
    },
    {
      "cell_type": "code",
      "source": [
        "agrupado = df.groupby('ANO').size().reset_index(name='Contagem')\n",
        "print(agrupado)"
      ],
      "metadata": {
        "id": "kD2IvxUtI1Mt"
      },
      "execution_count": null,
      "outputs": []
    },
    {
      "cell_type": "code",
      "source": [
        "df.info()\n"
      ],
      "metadata": {
        "id": "ujPocVYWUSS3"
      },
      "execution_count": null,
      "outputs": []
    },
    {
      "cell_type": "code",
      "source": [
        "df['PIB'].value_counts()"
      ],
      "metadata": {
        "id": "IdscIBo0a7Rf"
      },
      "execution_count": null,
      "outputs": []
    },
    {
      "cell_type": "code",
      "source": [
        "#montando o grafico\n",
        "X = df[['PIB']]\n",
        "Y = df['taxa de desemprego']\n",
        "regressao = LinearRegression()\n",
        "regressao.fit(X, Y)\n",
        "coef_angular = regressao.coef_[0]\n",
        "coef_linear = regressao.intercept_\n",
        "print(f'Coeficiente Angular (A): {coef_angular:.4f}')\n",
        "print(f'Coeficiente Linear (B): {coef_linear:.4f}')\n",
        "plt.scatter(X, Y, label='Dados')\n",
        "plt.plot(X, regressao.predict(X), color='red', linewidth=2, label='Regressão Linear')\n",
        "plt.xlabel('PIB')\n",
        "plt.ylabel('Taxa de Desemprego')\n",
        "plt.legend()\n",
        "plt.show()"
      ],
      "metadata": {
        "id": "WGv2XOg2go6w"
      },
      "execution_count": null,
      "outputs": []
    }
  ]
}