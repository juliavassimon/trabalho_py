{
  "nbformat": 4,
  "nbformat_minor": 0,
  "metadata": {
    "colab": {
      "provenance": [],
      "authorship_tag": "ABX9TyPOXYq2oDXq/E2E0i1NfBPp",
      "include_colab_link": true
    },
    "kernelspec": {
      "name": "python3",
      "display_name": "Python 3"
    },
    "language_info": {
      "name": "python"
    }
  },
  "cells": [
    {
      "cell_type": "markdown",
      "metadata": {
        "id": "view-in-github",
        "colab_type": "text"
      },
      "source": [
        "<a href=\"https://colab.research.google.com/github/juliavassimon/trabalho_py/blob/main/trabalho.ipynb\" target=\"_parent\"><img src=\"https://colab.research.google.com/assets/colab-badge.svg\" alt=\"Open In Colab\"/></a>"
      ]
    },
    {
      "cell_type": "code",
      "source": [
        "import pandas as pd\n",
        "import numpy as np\n",
        "from sklearn.linear_model import LinearRegression\n",
        "import matplotlib.pyplot as plt"
      ],
      "metadata": {
        "id": "dM8SY6Gbg4ri"
      },
      "execution_count": null,
      "outputs": []
    },
    {
      "cell_type": "code",
      "execution_count": 25,
      "metadata": {
        "colab": {
          "base_uri": "https://localhost:8080/",
          "height": 484
        },
        "id": "rJcjJ1cYfDgy",
        "outputId": "b02a255a-3238-4cc2-f655-b84235e7de7d"
      },
      "outputs": [
        {
          "output_type": "stream",
          "name": "stdout",
          "text": [
            "Coeficiente Angular (A): -0.0000\n",
            "Coeficiente Linear (B): 0.0942\n"
          ]
        },
        {
          "output_type": "display_data",
          "data": {
            "text/plain": [
              "<Figure size 640x480 with 1 Axes>"
            ],
            "image/png": "[encoded data removed]"
          },
          "metadata": {}
        }
      ],
      "source": [
        "data = pd.read_csv('https://raw.githubusercontent.com/juliavassimon/trabalho_py/main/trab-python.CSV', delimiter=';')\n",
        "df = pd.DataFrame(data)\n",
        "#limpeza de dados\n",
        "df['PIB'] = df['PIB'].str.replace('[$.,]', '', regex=True).astype(float)\n",
        "df['taxa de desemprego'] = df['taxa de desemprego'].str.replace(',', '.', regex=True).str.rstrip('%').astype(float) / 100  # Divida por 100\n",
        "#montando o grafico\n",
        "X = df[['PIB']]\n",
        "Y = df['taxa de desemprego']\n",
        "regressao = LinearRegression()\n",
        "regressao.fit(X, Y)\n",
        "coef_angular = regressao.coef_[0]\n",
        "coef_linear = regressao.intercept_\n",
        "print(f'Coeficiente Angular (A): {coef_angular:.4f}')\n",
        "print(f'Coeficiente Linear (B): {coef_linear:.4f}')\n",
        "plt.scatter(X, Y, label='Dados')\n",
        "plt.plot(X, regressao.predict(X), color='red', linewidth=2, label='Regressão Linear')\n",
        "plt.xlabel('PIB')\n",
        "plt.ylabel('Taxa de Desemprego')\n",
        "plt.legend()\n",
        "plt.show()"
      ]
    },
    {
      "cell_type": "code",
      "source": [
        "#mudando o nome da coluna\n",
        "df.columns = df.columns.str.replace('taxa de desemprego','taxa_desemprego')\n",
        "#media\n",
        "media_pib = df['PIB'].mean()\n",
        "media_taxa_desemprego = df['taxa_desemprego'].mean()\n",
        "#mediana\n",
        "mediana_pib = df['PIB'].median()\n",
        "mediana_taxa_desemprego = df['taxa_desemprego'].median()\n",
        "#moda\n",
        "moda_pib = df['PIB'].mode().values[0]\n",
        "moda_taxa_desemprego = df['taxa_desemprego'].mode().values[0]\n",
        "#desvio padrão\n",
        "desvio_pib = df['PIB'].std()\n",
        "desvio_taxa_desemprego = df['taxa_desemprego'].std()\n",
        "\n",
        "\n",
        "\n",
        "print(\"PIB:\")\n",
        "print(f\"Média: {media_pib:.2f}\")\n",
        "print(f\"Mediana: {mediana_pib:.2f}\")\n",
        "print(f\"Moda: {moda_pib:.2f}\")\n",
        "print(f\"Desvio Padrão: {desvio_pib:.2f}\")\n",
        "\n",
        "\n",
        "print(\"\\nTaxa de Desemprego:\")\n",
        "print(f\"Média: {media_taxa_desemprego:.2f}\")\n",
        "print(f\"Mediana: {mediana_taxa_desemprego:.2f}\")\n",
        "print(f\"Moda: {moda_taxa_desemprego:.2f}\")\n",
        "print(f\"Desvio Padrão: {desvio_taxa_desemprego:.2f}\")\n"
      ],
      "metadata": {
        "colab": {
          "base_uri": "https://localhost:8080/"
        },
        "id": "pZjpkBDgTAKU",
        "outputId": "41142bfb-38c5-409e-b6b2-20a94dff6cde"
      },
      "execution_count": null,
      "outputs": [
        {
          "output_type": "stream",
          "name": "stdout",
          "text": [
            "PIB:\n",
            "Média: 118415538592087.62\n",
            "Mediana: 86372339508832.00\n",
            "Moda: 40059925000000.00\n",
            "Desvio Padrão: 74477197281507.12\n",
            "\n",
            "Taxa de Desemprego:\n",
            "Média: 0.09\n",
            "Mediana: 0.08\n",
            "Moda: 0.07\n",
            "Desvio Padrão: 0.04\n"
          ]
        }
      ]
    },
    {
      "cell_type": "code",
      "source": [
        "agrupado = df.groupby('ANO').size().reset_index(name='Contagem')\n",
        "print(agrupado)"
      ],
      "metadata": {
        "colab": {
          "base_uri": "https://localhost:8080/"
        },
        "id": "kD2IvxUtI1Mt",
        "outputId": "4ab92519-5324-46b7-c361-ede14a608be8"
      },
      "execution_count": null,
      "outputs": [
        {
          "output_type": "stream",
          "name": "stdout",
          "text": [
            "     ANO  Contagem\n",
            "0   1990         1\n",
            "1   1991         1\n",
            "2   1992         1\n",
            "3   1993         1\n",
            "4   1994         1\n",
            "5   1995         1\n",
            "6   1996         1\n",
            "7   1997         1\n",
            "8   1998         1\n",
            "9   1999         1\n",
            "10  2000         1\n",
            "11  2001         1\n",
            "12  2002         1\n",
            "13  2003         1\n",
            "14  2004         1\n",
            "15  2005         1\n",
            "16  2006         1\n",
            "17  2007         1\n",
            "18  2008         1\n",
            "19  2009         1\n",
            "20  2010         1\n",
            "21  2011         1\n",
            "22  2012         1\n",
            "23  2013         1\n",
            "24  2014         1\n",
            "25  2015         1\n",
            "26  2016         1\n"
          ]
        }
      ]
    },
    {
      "cell_type": "code",
      "source": [
        "df.info()\n"
      ],
      "metadata": {
        "colab": {
          "base_uri": "https://localhost:8080/"
        },
        "id": "ujPocVYWUSS3",
        "outputId": "0282639b-6961-474f-bb77-59371a37f967"
      },
      "execution_count": null,
      "outputs": [
        {
          "output_type": "stream",
          "name": "stdout",
          "text": [
            "<class 'pandas.core.frame.DataFrame'>\n",
            "RangeIndex: 27 entries, 0 to 26\n",
            "Data columns (total 3 columns):\n",
            " #   Column           Non-Null Count  Dtype  \n",
            "---  ------           --------------  -----  \n",
            " 0   ANO              27 non-null     int64  \n",
            " 1   PIB              27 non-null     float64\n",
            " 2   taxa_desemprego  27 non-null     float64\n",
            "dtypes: float64(2), int64(1)\n",
            "memory usage: 776.0 bytes\n"
          ]
        }
      ]
    },
    {
      "cell_type": "code",
      "source": [
        "df['PIB'].value_counts()"
      ],
      "metadata": {
        "colab": {
          "base_uri": "https://localhost:8080/"
        },
        "id": "IdscIBo0a7Rf",
        "outputId": "5873c5d0-6ba6-4b48-802b-95588db6a59d"
      },
      "execution_count": 22,
      "outputs": [
        {
          "output_type": "execute_result",
          "data": {
            "text/plain": [
              "$461.951.782.000,00      1\n",
              "$669.316.239.316,24      1\n",
              "$1.803.652.649.613,75    1\n",
              "$2.455.993.200.170,00    1\n",
              "$2.472.806.919.901,67    1\n",
              "$2.465.188.674.415,03    1\n",
              "$2.616.201.578.192,25    1\n",
              "$2.208.871.646.202,82    1\n",
              "$1.667.019.605.881,76    1\n",
              "$1.695.824.517.395,57    1\n",
              "$1.397.084.381.901,29    1\n",
              "$1.107.640.325.472,35    1\n",
              "$891.629.970.423,92      1\n",
              "$558.320.116.997,08      1\n",
              "$602.860.000.000,00      1\n",
              "$507.962.741.819,92      1\n",
              "$559.372.502.338,24      1\n",
              "$655.421.153.320,58      1\n",
              "$599.388.879.704,63      1\n",
              "$863.723.395.088,32      1\n",
              "$883.199.443.413,73      1\n",
              "$850.425.828.275,79      1\n",
              "$785.643.456.467,26      1\n",
              "$558.111.997.497,26      1\n",
              "$437.798.577.639,75      1\n",
              "$400.599.250.000,00      1\n",
              "$1.796.186.586.414,45    1\n",
              "Name: PIB, dtype: int64"
            ]
          },
          "metadata": {},
          "execution_count": 22
        }
      ]
    },
    {
      "cell_type": "code",
      "source": [
        "df['taxa_desemprego'].value_counts()"
      ],
      "metadata": {
        "colab": {
          "base_uri": "https://localhost:8080/",
          "height": 512
        },
        "id": "8js8od4wcxms",
        "outputId": "82ebde80-b6db-434c-abfe-901ca610c176"
      },
      "execution_count": 23,
      "outputs": [
        {
          "output_type": "error",
          "ename": "KeyError",
          "evalue": "ignored",
          "traceback": [
            "\u001b[0;31m---------------------------------------------------------------------------\u001b[0m",
            "\u001b[0;31mKeyError\u001b[0m                                  Traceback (most recent call last)",
            "\u001b[0;32m/usr/local/lib/python3.10/dist-packages/pandas/core/indexes/base.py\u001b[0m in \u001b[0;36mget_loc\u001b[0;34m(self, key, method, tolerance)\u001b[0m\n\u001b[1;32m   3801\u001b[0m             \u001b[0;32mtry\u001b[0m\u001b[0;34m:\u001b[0m\u001b[0;34m\u001b[0m\u001b[0;34m\u001b[0m\u001b[0m\n\u001b[0;32m-> 3802\u001b[0;31m                 \u001b[0;32mreturn\u001b[0m \u001b[0mself\u001b[0m\u001b[0;34m.\u001b[0m\u001b[0m_engine\u001b[0m\u001b[0;34m.\u001b[0m\u001b[0mget_loc\u001b[0m\u001b[0;34m(\u001b[0m\u001b[0mcasted_key\u001b[0m\u001b[0;34m)\u001b[0m\u001b[0;34m\u001b[0m\u001b[0;34m\u001b[0m\u001b[0m\n\u001b[0m\u001b[1;32m   3803\u001b[0m             \u001b[0;32mexcept\u001b[0m \u001b[0mKeyError\u001b[0m \u001b[0;32mas\u001b[0m \u001b[0merr\u001b[0m\u001b[0;34m:\u001b[0m\u001b[0;34m\u001b[0m\u001b[0;34m\u001b[0m\u001b[0m\n",
            "\u001b[0;32m/usr/local/lib/python3.10/dist-packages/pandas/_libs/index.pyx\u001b[0m in \u001b[0;36mpandas._libs.index.IndexEngine.get_loc\u001b[0;34m()\u001b[0m\n",
            "\u001b[0;32m/usr/local/lib/python3.10/dist-packages/pandas/_libs/index.pyx\u001b[0m in \u001b[0;36mpandas._libs.index.IndexEngine.get_loc\u001b[0;34m()\u001b[0m\n",
            "\u001b[0;32mpandas/_libs/hashtable_class_helper.pxi\u001b[0m in \u001b[0;36mpandas._libs.hashtable.PyObjectHashTable.get_item\u001b[0;34m()\u001b[0m\n",
            "\u001b[0;32mpandas/_libs/hashtable_class_helper.pxi\u001b[0m in \u001b[0;36mpandas._libs.hashtable.PyObjectHashTable.get_item\u001b[0;34m()\u001b[0m\n",
            "\u001b[0;31mKeyError\u001b[0m: 'taxa_desemprego'",
            "\nThe above exception was the direct cause of the following exception:\n",
            "\u001b[0;31mKeyError\u001b[0m                                  Traceback (most recent call last)",
            "\u001b[0;32m<ipython-input-23-8ea9f22d4633>\u001b[0m in \u001b[0;36m<cell line: 1>\u001b[0;34m()\u001b[0m\n\u001b[0;32m----> 1\u001b[0;31m \u001b[0mdf\u001b[0m\u001b[0;34m[\u001b[0m\u001b[0;34m'taxa_desemprego'\u001b[0m\u001b[0;34m]\u001b[0m\u001b[0;34m.\u001b[0m\u001b[0mvalue_counts\u001b[0m\u001b[0;34m(\u001b[0m\u001b[0;34m)\u001b[0m\u001b[0;34m\u001b[0m\u001b[0;34m\u001b[0m\u001b[0m\n\u001b[0m",
            "\u001b[0;32m/usr/local/lib/python3.10/dist-packages/pandas/core/frame.py\u001b[0m in \u001b[0;36m__getitem__\u001b[0;34m(self, key)\u001b[0m\n\u001b[1;32m   3805\u001b[0m             \u001b[0;32mif\u001b[0m \u001b[0mself\u001b[0m\u001b[0;34m.\u001b[0m\u001b[0mcolumns\u001b[0m\u001b[0;34m.\u001b[0m\u001b[0mnlevels\u001b[0m \u001b[0;34m>\u001b[0m \u001b[0;36m1\u001b[0m\u001b[0;34m:\u001b[0m\u001b[0;34m\u001b[0m\u001b[0;34m\u001b[0m\u001b[0m\n\u001b[1;32m   3806\u001b[0m                 \u001b[0;32mreturn\u001b[0m \u001b[0mself\u001b[0m\u001b[0;34m.\u001b[0m\u001b[0m_getitem_multilevel\u001b[0m\u001b[0;34m(\u001b[0m\u001b[0mkey\u001b[0m\u001b[0;34m)\u001b[0m\u001b[0;34m\u001b[0m\u001b[0;34m\u001b[0m\u001b[0m\n\u001b[0;32m-> 3807\u001b[0;31m             \u001b[0mindexer\u001b[0m \u001b[0;34m=\u001b[0m \u001b[0mself\u001b[0m\u001b[0;34m.\u001b[0m\u001b[0mcolumns\u001b[0m\u001b[0;34m.\u001b[0m\u001b[0mget_loc\u001b[0m\u001b[0;34m(\u001b[0m\u001b[0mkey\u001b[0m\u001b[0;34m)\u001b[0m\u001b[0;34m\u001b[0m\u001b[0;34m\u001b[0m\u001b[0m\n\u001b[0m\u001b[1;32m   3808\u001b[0m             \u001b[0;32mif\u001b[0m \u001b[0mis_integer\u001b[0m\u001b[0;34m(\u001b[0m\u001b[0mindexer\u001b[0m\u001b[0;34m)\u001b[0m\u001b[0;34m:\u001b[0m\u001b[0;34m\u001b[0m\u001b[0;34m\u001b[0m\u001b[0m\n\u001b[1;32m   3809\u001b[0m                 \u001b[0mindexer\u001b[0m \u001b[0;34m=\u001b[0m \u001b[0;34m[\u001b[0m\u001b[0mindexer\u001b[0m\u001b[0;34m]\u001b[0m\u001b[0;34m\u001b[0m\u001b[0;34m\u001b[0m\u001b[0m\n",
            "\u001b[0;32m/usr/local/lib/python3.10/dist-packages/pandas/core/indexes/base.py\u001b[0m in \u001b[0;36mget_loc\u001b[0;34m(self, key, method, tolerance)\u001b[0m\n\u001b[1;32m   3802\u001b[0m                 \u001b[0;32mreturn\u001b[0m \u001b[0mself\u001b[0m\u001b[0;34m.\u001b[0m\u001b[0m_engine\u001b[0m\u001b[0;34m.\u001b[0m\u001b[0mget_loc\u001b[0m\u001b[0;34m(\u001b[0m\u001b[0mcasted_key\u001b[0m\u001b[0;34m)\u001b[0m\u001b[0;34m\u001b[0m\u001b[0;34m\u001b[0m\u001b[0m\n\u001b[1;32m   3803\u001b[0m             \u001b[0;32mexcept\u001b[0m \u001b[0mKeyError\u001b[0m \u001b[0;32mas\u001b[0m \u001b[0merr\u001b[0m\u001b[0;34m:\u001b[0m\u001b[0;34m\u001b[0m\u001b[0;34m\u001b[0m\u001b[0m\n\u001b[0;32m-> 3804\u001b[0;31m                 \u001b[0;32mraise\u001b[0m \u001b[0mKeyError\u001b[0m\u001b[0;34m(\u001b[0m\u001b[0mkey\u001b[0m\u001b[0;34m)\u001b[0m \u001b[0;32mfrom\u001b[0m \u001b[0merr\u001b[0m\u001b[0;34m\u001b[0m\u001b[0;34m\u001b[0m\u001b[0m\n\u001b[0m\u001b[1;32m   3805\u001b[0m             \u001b[0;32mexcept\u001b[0m \u001b[0mTypeError\u001b[0m\u001b[0;34m:\u001b[0m\u001b[0;34m\u001b[0m\u001b[0;34m\u001b[0m\u001b[0m\n\u001b[1;32m   3806\u001b[0m                 \u001b[0;31m# If we have a listlike key, _check_indexing_error will raise\u001b[0m\u001b[0;34m\u001b[0m\u001b[0;34m\u001b[0m\u001b[0m\n",
            "\u001b[0;31mKeyError\u001b[0m: 'taxa_desemprego'"
          ]
        }
      ]
    }
  ]
}